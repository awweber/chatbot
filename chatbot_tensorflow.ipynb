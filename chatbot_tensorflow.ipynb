{
 "cells": [
  {
   "cell_type": "markdown",
   "metadata": {},
   "source": [
    "# Chatbot programmieren\n",
    "\n",
    "| Sätze | Labels | Antwort |\n",
    "|-------|--------|---------|\n",
    "| Hallo | Begrüßung | Hallo! Wie kann ich Ihnen helfen? |\n",
    "| Tschüss | Verabschiedung | Auf Wiedersehen! |\n",
    "| Danke | Dank | Gern geschehen! |\n",
    "\n",
    "Chatbot erkennt label eines vom User eingegebenen Satzes und sucht dann eien zufällige Antwort aus dem jeweiligen Label.\n",
    "\n",
    "Mit Machinen Learning (Klassifizuerungsalgorithmus) soll ein unbekannter Satz nach dem Training in eine der verfügbaren Kategorien (Labels) eingeteilt werden.\n",
    "\n",
    "\n",
    "1. Machine Learning\n",
    "- Installiere pandas und scikit-learn        \n",
    "- Jeder Satz im Datensatz wird in ein Bag of Words verwandelt\n",
    "- Der ML Algorithmus wird mit den Daten im BoW Format und den dazugehörigen Labels trainiert.\n",
    "- Teste den Algorithmus indem du über die input-Funktion im Terminal einen Satz eingibst, dieser in ein Bow verwandelt und dann kategorisiert mit dem ML Algorithmus.\n",
    "\n",
    "2. Chatbot\n",
    "- Ein Satz aus dem Terminal User Input wird kategorisiert.\n",
    "- Aus der responses Spalte wird eine zufällige Antwort mit der passenden Kategorie ausgewählt und ausgegeben."
   ]
  },
  {
   "cell_type": "markdown",
   "metadata": {},
   "source": [
    "Imports:"
   ]
  },
  {
   "cell_type": "code",
   "execution_count": 163,
   "metadata": {},
   "outputs": [],
   "source": [
    "import pandas as pd\n",
    "import numpy as np\n",
    "import matplotlib.pyplot as plt\n",
    "from sklearn.model_selection import train_test_split\n",
    "from sklearn.metrics import accuracy_score, classification_report, confusion_matrix\n",
    "from sklearn.preprocessing import LabelEncoder\n",
    "from sklearn.feature_extraction.text import CountVectorizer"
   ]
  },
  {
   "cell_type": "code",
   "execution_count": 164,
   "metadata": {},
   "outputs": [],
   "source": [
    "# %pip install google"
   ]
  },
  {
   "cell_type": "code",
   "execution_count": 165,
   "metadata": {},
   "outputs": [],
   "source": [
    "import tensorflow as tf\n",
    "from tensorflow import keras"
   ]
  },
  {
   "cell_type": "markdown",
   "metadata": {},
   "source": [
    "Functions:"
   ]
  },
  {
   "cell_type": "code",
   "execution_count": 166,
   "metadata": {},
   "outputs": [],
   "source": [
    "def bow(vocabulary:list, sentence:str, )-> list:\n",
    "    '''Generates a bow-array:list[int] for a given sentence:str based on a given vocabulary:list[str] '''\n",
    "    bagOfWords = []\n",
    "    for word in vocabulary:\n",
    "        if word in sentence.lower():\n",
    "            bagOfWords.append(1)\n",
    "        else:\n",
    "            bagOfWords.append(0)\n",
    "    return bagOfWords\n",
    "\n",
    "def bow_list(vocabulary:list, sentences:list[str])->list[int]:\n",
    "    ''' Generates a list of bow-arrays for list of sentences based on a given vocabulary:list[str] '''\n",
    "    bow_list:list[int] = []\n",
    "    for sentence in sentences:\n",
    "        bow_list.append(bow(vocabulary, sentence))\n",
    "    return bow_list\n",
    "\n",
    "def remove_chars(chars, sentences):\n",
    "    ''' Removes chars from sentences:list[str] and return \"cleaned\" sentences '''\n",
    "    clean_sentences = []\n",
    "    for sentence in sentences:\n",
    "        for char in chars:\n",
    "            if char in sentence:\n",
    "                sentence = sentence.replace(char, '')\n",
    "        sentence = sentence.strip().lower()\n",
    "        clean_sentences.append(sentence)\n",
    "    return clean_sentences\n",
    "\n",
    "def create_vocabulary(sentences):\n",
    "    ''' Creates array of words (vocabulary) based on given sentences '''\n",
    "    words_list = []\n",
    "    for sentence in sentences:\n",
    "        words = sentence.split(\" \")\n",
    "        for word in words:\n",
    "            words_list.append(word)\n",
    "    vocabulary = list(set(words_list))\n",
    "    # vocabulary = words_list\n",
    "    return vocabulary"
   ]
  },
  {
   "cell_type": "markdown",
   "metadata": {},
   "source": [
    "Read CSV-Training data"
   ]
  },
  {
   "cell_type": "code",
   "execution_count": 167,
   "metadata": {},
   "outputs": [
    {
     "name": "stdout",
     "output_type": "stream",
     "text": [
      "(373,)\n",
      "(373,)\n"
     ]
    }
   ],
   "source": [
    "df = pd.read_csv('ChatbotTraining.csv',\n",
    "                sep=',',              # Specify separator (default is comma)\n",
    "                encoding='utf-8',     # Specify encoding\n",
    "                header=0)\n",
    "print(df['tag'].shape)\n",
    "print(df['patterns'].shape)"
   ]
  },
  {
   "cell_type": "markdown",
   "metadata": {},
   "source": [
    "Labels / output data:"
   ]
  },
  {
   "cell_type": "code",
   "execution_count": 168,
   "metadata": {},
   "outputs": [
    {
     "name": "stdout",
     "output_type": "stream",
     "text": [
      "Labels: [2 2 2 2 2 2 2 2 2 2 2 2 2 2 2 2 2 2 2 2 2 2 2 2 2 2 2 2 2 2 2 2 2 2 2 2 2\n",
      " 2 2 2 2 2 2 2 2 2 2 2 2 2 2 2 2 2 2 2 2 2 2 2 2 2 2 2 2 2 2 2 2 2 2 2 2 2\n",
      " 2 2 2 2 2 2 2 2 2 2 2 2 2 2 2 2 2 2 2 2 2 2 2 2 2 2 2 2 2 2 2 2 2 2 2 2 2\n",
      " 2 2 2 2 2 2 2 2 2 2 2 2 2 2 2 2 2 2 1 1 1 1 1 1 1 1 1 1 1 1 1 1 1 1 1 1 1\n",
      " 1 1 1 1 1 1 1 1 1 1 1 1 1 1 1 1 1 1 1 1 1 1 1 1 1 1 1 1 1 1 1 1 1 1 1 1 1\n",
      " 1 1 1 1 1 1 1 1 1 1 1 1 1 4 4 4 4 4 4 4 4 4 4 4 4 4 4 4 4 4 4 4 4 4 4 4 4\n",
      " 4 4 4 4 4 4 3 3 3 3 3 3 3 3 3 3 3 3 3 3 3 3 3 3 3 3 3 3 3 3 3 3 3 3 3 3 7\n",
      " 7 7 7 7 7 7 7 7 7 7 7 7 7 7 7 7 7 7 7 7 7 7 7 7 7 7 7 7 7 5 5 5 5 5 5 5 5\n",
      " 5 5 5 5 5 5 5 5 5 5 5 5 5 5 5 5 5 5 5 5 5 5 6 6 6 6 6 6 6 6 6 6 6 6 6 6 6\n",
      " 6 6 6 6 6 6 6 6 6 6 6 6 6 6 6 0 0 0 0 0 0 0 0 0 0 0 0 0 0 0 0 0 0 0 0 0 0\n",
      " 0 0 0]\n",
      "Classes: ['age' 'goodbye' 'greeting' 'help' 'joke' 'name' 'purpose' 'thanks']\n"
     ]
    }
   ],
   "source": [
    "# labels / output data\n",
    "labels = df['tag'].values.tolist()\n",
    "le = LabelEncoder()\n",
    "y = le.fit_transform(labels)\n",
    "print(f\"Labels: {y}\")\n",
    "print(f\"Classes: {le.classes_}\")"
   ]
  },
  {
   "cell_type": "markdown",
   "metadata": {},
   "source": [
    "Input data: Preparation and cleaning"
   ]
  },
  {
   "cell_type": "code",
   "execution_count": 169,
   "metadata": {},
   "outputs": [
    {
     "name": "stdout",
     "output_type": "stream",
     "text": [
      "(373, 356) [[0 0 0 ... 0 0 0]\n",
      " [0 0 0 ... 0 0 0]\n",
      " [0 0 0 ... 0 0 0]\n",
      " ...\n",
      " [0 0 0 ... 0 0 0]\n",
      " [0 0 0 ... 0 0 0]\n",
      " [0 0 0 ... 0 0 0]]\n",
      "['able' 'about' 'accomplish' 'achieve' 'actions' 'actual' 'adios' 'advice'\n",
      " 'afternoon' 'again' 'age' 'ai' 'aiming' 'always' 'amazing' 'an' 'and'\n",
      " 'any' 'appreciate' 'appreciated' 'approximate' 'are' 'around'\n",
      " 'articulate' 'as' 'ask' 'asking' 'assist' 'assistance' 'at' 'be' 'been'\n",
      " 'behind' 'being' 'believe' 'best' 'better' 'birth' 'bit' 'blank'\n",
      " 'blessed' 'bon' 'bones' 'born' 'bottom' 'break' 'brighten' 'buddy' 'but'\n",
      " 'by' 'bye' 'call' 'can' 'cant' 'care' 'catch' 'cheerio' 'chuckle'\n",
      " 'clarify' 'come' 'context' 'could' 'crack' 'cracks' 'created' 'creation'\n",
      " 'curious' 'current' 'date' 'day' 'deeply' 'describe' 'did' 'didnt'\n",
      " 'difference' 'difficulty' 'direction' 'do' 'doing' 'dont' 'drawing'\n",
      " 'driving' 'earlier' 'easy' 'efforts' 'elucidate' 'end' 'endeavor'\n",
      " 'enough' 'entertain' 'evening' 'everyone' 'everything' 'excuse' 'existed'\n",
      " 'expertise' 'explain' 'farewell' 'favor' 'favorite' 'figure' 'fill'\n",
      " 'finding' 'first' 'for' 'fortunate' 'from' 'funny' 'generation'\n",
      " 'generosity' 'get' 'gets' 'giggle' 'give' 'go' 'goal' 'godspeed' 'going'\n",
      " 'gone' 'good' 'goodbye' 'goodnight' 'got' 'grateful' 'great' 'greatly'\n",
      " 'greetings' 'guaranteed' 'guidance' 'guide' 'hand' 'happening' 'has'\n",
      " 'have' 'having' 'hear' 'heard' 'heart' 'hello' 'help' 'helpful' 'helping'\n",
      " 'here' 'hey' 'hi' 'hit' 'hiya' 'hoping' 'how' 'howdy' 'hows' 'huge' 'ice'\n",
      " 'if' 'ill' 'im' 'in' 'incredibly' 'indebted' 'inquire' 'intended'\n",
      " 'intention' 'introduce' 'introduced' 'is' 'issue' 'it' 'jam' 'joke'\n",
      " 'jokes' 'just' 'keep' 'kind' 'kindly' 'kindness' 'know' 'lately' 'later'\n",
      " 'laugh' 'lend' 'let' 'life' 'lifesaver' 'lift' 'light' 'lighten' 'like'\n",
      " 'long' 'loss' 'lot' 'loud' 'made' 'main' 'make' 'making' 'many' 'matter'\n",
      " 'mature' 'may' 'me' 'means' 'meet' 'might' 'million' 'mind' 'missed'\n",
      " 'moment' 'mood' 'more' 'morning' 'motivation' 'my' 'name' 'names' 'need'\n",
      " 'new' 'next' 'nice' 'no' 'not' 'now' 'objective' 'of' 'off' 'offer' 'old'\n",
      " 'on' 'one' 'online' 'oo' 'or' 'our' 'out' 'outcome' 'outline' 'overview'\n",
      " 'overwhelmed' 'owe' 'pardon' 'parts' 'peace' 'pitch' 'please' 'pleased'\n",
      " 'point' 'problem' 'provide' 'purpose' 'pursuing' 'quite' 'rationale'\n",
      " 'reaction' 'really' 'reason' 'recently' 'records' 'remember' 'remind'\n",
      " 'repeating' 'resolving' 'right' 'rounds' 'safe' 'say' 'sayonara' 'see'\n",
      " 'share' 'sharing' 'shed' 'should' 'show' 'situation' 'sleeve' 'smile'\n",
      " 'so' 'solution' 'some' 'soon' 'sorry' 'spare' 'spell' 'spirits' 'start'\n",
      " 'stay' 'stories' 'striving' 'struggling' 'stuck' 'support' 'supportive'\n",
      " 'sure' 'ta' 'take' 'talk' 'task' 'tell' 'telling' 'terrible' 'thank'\n",
      " 'thankful' 'thanks' 'that' 'thats' 'the' 'there' 'these' 'this'\n",
      " 'thoughtfulness' 'through' 'tickle' 'time' 'to' 'tomorrow' 'too' 'toodle'\n",
      " 'touch' 'towards' 'treating' 'trouble' 'truly' 'trying' 'understanding'\n",
      " 'unnoticed' 'until' 'up' 'us' 'use' 'voyage' 'want' 'was' 'welcome'\n",
      " 'well' 'were' 'weve' 'what' 'whats' 'when' 'will' 'willing' 'with'\n",
      " 'without' 'working' 'world' 'worth' 'would' 'year' 'years' 'yo' 'you'\n",
      " 'youd' 'young' 'your' 'youre' 'yours' 'yourself' 'youve']\n"
     ]
    }
   ],
   "source": [
    "# input data\n",
    "sentences = df['patterns'].values.tolist()\n",
    "# remove chars from sentences\n",
    "chars = '!?.\\','\n",
    "sentences = remove_chars(chars, sentences)\n",
    "\n",
    "\n",
    "count_vec = CountVectorizer()\n",
    "X = count_vec.fit_transform(sentences,)\n",
    "print(X.shape, X.toarray())\n",
    "print(count_vec.get_feature_names_out())"
   ]
  },
  {
   "cell_type": "markdown",
   "metadata": {},
   "source": [
    "Split data into train and test data"
   ]
  },
  {
   "cell_type": "code",
   "execution_count": 170,
   "metadata": {},
   "outputs": [
    {
     "name": "stdout",
     "output_type": "stream",
     "text": [
      "X_train: (298, 356), y_train: (298,)\n",
      "X_test: (75, 356), y_test: (75,)\n"
     ]
    }
   ],
   "source": [
    "X_train, X_test, y_train, y_test = train_test_split(X.toarray(), y, test_size=0.2, stratify=y, random_state=42)\n",
    "print(f\"X_train: {X_train.shape}, y_train: {y_train.shape}\")\n",
    "print(f\"X_test: {X_test.shape}, y_test: {y_test.shape}\")"
   ]
  },
  {
   "cell_type": "markdown",
   "metadata": {},
   "source": [
    "Model training:"
   ]
  },
  {
   "cell_type": "code",
   "execution_count": 171,
   "metadata": {},
   "outputs": [
    {
     "name": "stderr",
     "output_type": "stream",
     "text": [
      "C:\\Users\\weber\\AppData\\Roaming\\Python\\Python312\\site-packages\\keras\\src\\layers\\core\\dense.py:87: UserWarning: Do not pass an `input_shape`/`input_dim` argument to a layer. When using Sequential models, prefer using an `Input(shape)` object as the first layer in the model instead.\n",
      "  super().__init__(activity_regularizer=activity_regularizer, **kwargs)\n"
     ]
    }
   ],
   "source": [
    "# Ensure X_train is a NumPy array\n",
    "X_train = np.array(X_train)\n",
    "\n",
    "tf_chatbot = tf.keras.Sequential()\n",
    "tf_chatbot.add(tf.keras.layers.Dense(356, activation='relu', input_shape=(X_train.shape[1],))) # input layer\n",
    "tf_chatbot.add(tf.keras.layers.Dense(356, activation='relu')) # hidden layer\n",
    "tf_chatbot.add(tf.keras.layers.Dense(len(set(y)), activation='softmax')) # output layer"
   ]
  },
  {
   "cell_type": "markdown",
   "metadata": {},
   "source": [
    "Compile TF-Model"
   ]
  },
  {
   "cell_type": "code",
   "execution_count": 172,
   "metadata": {},
   "outputs": [
    {
     "data": {
      "text/html": [
       "<pre style=\"white-space:pre;overflow-x:auto;line-height:normal;font-family:Menlo,'DejaVu Sans Mono',consolas,'Courier New',monospace\"><span style=\"font-weight: bold\">Model: \"sequential_8\"</span>\n",
       "</pre>\n"
      ],
      "text/plain": [
       "\u001b[1mModel: \"sequential_8\"\u001b[0m\n"
      ]
     },
     "metadata": {},
     "output_type": "display_data"
    },
    {
     "data": {
      "text/html": [
       "<pre style=\"white-space:pre;overflow-x:auto;line-height:normal;font-family:Menlo,'DejaVu Sans Mono',consolas,'Courier New',monospace\">┏━━━━━━━━━━━━━━━━━━━━━━━━━━━━━━━━━┳━━━━━━━━━━━━━━━━━━━━━━━━┳━━━━━━━━━━━━━━━┓\n",
       "┃<span style=\"font-weight: bold\"> Layer (type)                    </span>┃<span style=\"font-weight: bold\"> Output Shape           </span>┃<span style=\"font-weight: bold\">       Param # </span>┃\n",
       "┡━━━━━━━━━━━━━━━━━━━━━━━━━━━━━━━━━╇━━━━━━━━━━━━━━━━━━━━━━━━╇━━━━━━━━━━━━━━━┩\n",
       "│ dense_24 (<span style=\"color: #0087ff; text-decoration-color: #0087ff\">Dense</span>)                │ (<span style=\"color: #00d7ff; text-decoration-color: #00d7ff\">None</span>, <span style=\"color: #00af00; text-decoration-color: #00af00\">356</span>)            │       <span style=\"color: #00af00; text-decoration-color: #00af00\">127,092</span> │\n",
       "├─────────────────────────────────┼────────────────────────┼───────────────┤\n",
       "│ dense_25 (<span style=\"color: #0087ff; text-decoration-color: #0087ff\">Dense</span>)                │ (<span style=\"color: #00d7ff; text-decoration-color: #00d7ff\">None</span>, <span style=\"color: #00af00; text-decoration-color: #00af00\">356</span>)            │       <span style=\"color: #00af00; text-decoration-color: #00af00\">127,092</span> │\n",
       "├─────────────────────────────────┼────────────────────────┼───────────────┤\n",
       "│ dense_26 (<span style=\"color: #0087ff; text-decoration-color: #0087ff\">Dense</span>)                │ (<span style=\"color: #00d7ff; text-decoration-color: #00d7ff\">None</span>, <span style=\"color: #00af00; text-decoration-color: #00af00\">8</span>)              │         <span style=\"color: #00af00; text-decoration-color: #00af00\">2,856</span> │\n",
       "└─────────────────────────────────┴────────────────────────┴───────────────┘\n",
       "</pre>\n"
      ],
      "text/plain": [
       "┏━━━━━━━━━━━━━━━━━━━━━━━━━━━━━━━━━┳━━━━━━━━━━━━━━━━━━━━━━━━┳━━━━━━━━━━━━━━━┓\n",
       "┃\u001b[1m \u001b[0m\u001b[1mLayer (type)                   \u001b[0m\u001b[1m \u001b[0m┃\u001b[1m \u001b[0m\u001b[1mOutput Shape          \u001b[0m\u001b[1m \u001b[0m┃\u001b[1m \u001b[0m\u001b[1m      Param #\u001b[0m\u001b[1m \u001b[0m┃\n",
       "┡━━━━━━━━━━━━━━━━━━━━━━━━━━━━━━━━━╇━━━━━━━━━━━━━━━━━━━━━━━━╇━━━━━━━━━━━━━━━┩\n",
       "│ dense_24 (\u001b[38;5;33mDense\u001b[0m)                │ (\u001b[38;5;45mNone\u001b[0m, \u001b[38;5;34m356\u001b[0m)            │       \u001b[38;5;34m127,092\u001b[0m │\n",
       "├─────────────────────────────────┼────────────────────────┼───────────────┤\n",
       "│ dense_25 (\u001b[38;5;33mDense\u001b[0m)                │ (\u001b[38;5;45mNone\u001b[0m, \u001b[38;5;34m356\u001b[0m)            │       \u001b[38;5;34m127,092\u001b[0m │\n",
       "├─────────────────────────────────┼────────────────────────┼───────────────┤\n",
       "│ dense_26 (\u001b[38;5;33mDense\u001b[0m)                │ (\u001b[38;5;45mNone\u001b[0m, \u001b[38;5;34m8\u001b[0m)              │         \u001b[38;5;34m2,856\u001b[0m │\n",
       "└─────────────────────────────────┴────────────────────────┴───────────────┘\n"
      ]
     },
     "metadata": {},
     "output_type": "display_data"
    },
    {
     "data": {
      "text/html": [
       "<pre style=\"white-space:pre;overflow-x:auto;line-height:normal;font-family:Menlo,'DejaVu Sans Mono',consolas,'Courier New',monospace\"><span style=\"font-weight: bold\"> Total params: </span><span style=\"color: #00af00; text-decoration-color: #00af00\">257,040</span> (1004.06 KB)\n",
       "</pre>\n"
      ],
      "text/plain": [
       "\u001b[1m Total params: \u001b[0m\u001b[38;5;34m257,040\u001b[0m (1004.06 KB)\n"
      ]
     },
     "metadata": {},
     "output_type": "display_data"
    },
    {
     "data": {
      "text/html": [
       "<pre style=\"white-space:pre;overflow-x:auto;line-height:normal;font-family:Menlo,'DejaVu Sans Mono',consolas,'Courier New',monospace\"><span style=\"font-weight: bold\"> Trainable params: </span><span style=\"color: #00af00; text-decoration-color: #00af00\">257,040</span> (1004.06 KB)\n",
       "</pre>\n"
      ],
      "text/plain": [
       "\u001b[1m Trainable params: \u001b[0m\u001b[38;5;34m257,040\u001b[0m (1004.06 KB)\n"
      ]
     },
     "metadata": {},
     "output_type": "display_data"
    },
    {
     "data": {
      "text/html": [
       "<pre style=\"white-space:pre;overflow-x:auto;line-height:normal;font-family:Menlo,'DejaVu Sans Mono',consolas,'Courier New',monospace\"><span style=\"font-weight: bold\"> Non-trainable params: </span><span style=\"color: #00af00; text-decoration-color: #00af00\">0</span> (0.00 B)\n",
       "</pre>\n"
      ],
      "text/plain": [
       "\u001b[1m Non-trainable params: \u001b[0m\u001b[38;5;34m0\u001b[0m (0.00 B)\n"
      ]
     },
     "metadata": {},
     "output_type": "display_data"
    }
   ],
   "source": [
    "tf_chatbot.compile(optimizer='adam',                        # standard for binary classification\n",
    "                   loss='sparse_categorical_crossentropy',  # adaptive learning rate optimizer\n",
    "                   metrics=['accuracy'])                    \n",
    "tf_chatbot.summary()\n"
   ]
  },
  {
   "cell_type": "markdown",
   "metadata": {},
   "source": [
    "Train TF-Chatbot-Model"
   ]
  },
  {
   "cell_type": "code",
   "execution_count": 173,
   "metadata": {},
   "outputs": [
    {
     "name": "stdout",
     "output_type": "stream",
     "text": [
      "Epoch 1/10\n"
     ]
    },
    {
     "name": "stdout",
     "output_type": "stream",
     "text": [
      "\u001b[1m38/38\u001b[0m \u001b[32m━━━━━━━━━━━━━━━━━━━━\u001b[0m\u001b[37m\u001b[0m \u001b[1m1s\u001b[0m 5ms/step - accuracy: 0.3479 - loss: 1.9101\n",
      "Epoch 2/10\n",
      "\u001b[1m38/38\u001b[0m \u001b[32m━━━━━━━━━━━━━━━━━━━━\u001b[0m\u001b[37m\u001b[0m \u001b[1m0s\u001b[0m 4ms/step - accuracy: 0.7873 - loss: 0.9537\n",
      "Epoch 3/10\n",
      "\u001b[1m38/38\u001b[0m \u001b[32m━━━━━━━━━━━━━━━━━━━━\u001b[0m\u001b[37m\u001b[0m \u001b[1m0s\u001b[0m 5ms/step - accuracy: 0.9860 - loss: 0.2354\n",
      "Epoch 4/10\n",
      "\u001b[1m38/38\u001b[0m \u001b[32m━━━━━━━━━━━━━━━━━━━━\u001b[0m\u001b[37m\u001b[0m \u001b[1m0s\u001b[0m 4ms/step - accuracy: 1.0000 - loss: 0.0585\n",
      "Epoch 5/10\n",
      "\u001b[1m38/38\u001b[0m \u001b[32m━━━━━━━━━━━━━━━━━━━━\u001b[0m\u001b[37m\u001b[0m \u001b[1m0s\u001b[0m 5ms/step - accuracy: 1.0000 - loss: 0.0208\n",
      "Epoch 6/10\n",
      "\u001b[1m38/38\u001b[0m \u001b[32m━━━━━━━━━━━━━━━━━━━━\u001b[0m\u001b[37m\u001b[0m \u001b[1m0s\u001b[0m 4ms/step - accuracy: 1.0000 - loss: 0.0111\n",
      "Epoch 7/10\n",
      "\u001b[1m38/38\u001b[0m \u001b[32m━━━━━━━━━━━━━━━━━━━━\u001b[0m\u001b[37m\u001b[0m \u001b[1m0s\u001b[0m 5ms/step - accuracy: 1.0000 - loss: 0.0054\n",
      "Epoch 8/10\n",
      "\u001b[1m38/38\u001b[0m \u001b[32m━━━━━━━━━━━━━━━━━━━━\u001b[0m\u001b[37m\u001b[0m \u001b[1m0s\u001b[0m 8ms/step - accuracy: 1.0000 - loss: 0.0041\n",
      "Epoch 9/10\n",
      "\u001b[1m38/38\u001b[0m \u001b[32m━━━━━━━━━━━━━━━━━━━━\u001b[0m\u001b[37m\u001b[0m \u001b[1m0s\u001b[0m 4ms/step - accuracy: 1.0000 - loss: 0.0036\n",
      "Epoch 10/10\n",
      "\u001b[1m38/38\u001b[0m \u001b[32m━━━━━━━━━━━━━━━━━━━━\u001b[0m\u001b[37m\u001b[0m \u001b[1m0s\u001b[0m 5ms/step - accuracy: 1.0000 - loss: 0.0028\n"
     ]
    },
    {
     "data": {
      "text/plain": [
       "<keras.src.callbacks.history.History at 0x27e748d23c0>"
      ]
     },
     "execution_count": 173,
     "metadata": {},
     "output_type": "execute_result"
    }
   ],
   "source": [
    "tf_chatbot.fit(X_train, y_train, batch_size=8, epochs=10) # fit model to data)"
   ]
  },
  {
   "cell_type": "markdown",
   "metadata": {},
   "source": [
    "Genauigkeit der Traningsdaten: Wie gut bildet das Modell die Trainingsdaten ab?"
   ]
  },
  {
   "cell_type": "code",
   "execution_count": 174,
   "metadata": {},
   "outputs": [
    {
     "name": "stdout",
     "output_type": "stream",
     "text": [
      "\u001b[1m10/10\u001b[0m \u001b[32m━━━━━━━━━━━━━━━━━━━━\u001b[0m\u001b[37m\u001b[0m \u001b[1m0s\u001b[0m 5ms/step - accuracy: 1.0000 - loss: 0.0021  \n",
      "Accuracy: 100.00%\n"
     ]
    }
   ],
   "source": [
    "_, accuracy = tf_chatbot.evaluate(X_train, y_train)\n",
    "print(f\"Accuracy: {accuracy * 100:.2f}%\")\n"
   ]
  },
  {
   "cell_type": "markdown",
   "metadata": {},
   "source": [
    "Model Predctions"
   ]
  },
  {
   "cell_type": "code",
   "execution_count": 175,
   "metadata": {},
   "outputs": [
    {
     "name": "stdout",
     "output_type": "stream",
     "text": [
      "\u001b[1m3/3\u001b[0m \u001b[32m━━━━━━━━━━━━━━━━━━━━\u001b[0m\u001b[37m\u001b[0m \u001b[1m0s\u001b[0m 38ms/step \n",
      "Predicted tags: ['name' 'age' 'name' 'greeting' 'greeting' 'greeting' 'purpose' 'age'\n",
      " 'greeting' 'goodbye' 'greeting' 'greeting' 'name' 'goodbye' 'goodbye'\n",
      " 'greeting' 'help' 'help' 'greeting' 'goodbye' 'age' 'joke' 'greeting'\n",
      " 'name' 'help' 'purpose' 'joke' 'purpose' 'greeting' 'greeting' 'greeting'\n",
      " 'greeting' 'greeting' 'greeting' 'greeting' 'greeting' 'age' 'greeting'\n",
      " 'greeting' 'greeting' 'goodbye' 'age' 'greeting' 'age' 'goodbye'\n",
      " 'goodbye' 'greeting' 'help' 'joke' 'greeting' 'help' 'purpose' 'greeting'\n",
      " 'greeting' 'joke' 'greeting' 'greeting' 'goodbye' 'joke' 'greeting'\n",
      " 'thanks' 'greeting' 'greeting' 'purpose' 'thanks' 'help' 'help' 'name'\n",
      " 'thanks' 'greeting' 'greeting' 'greeting' 'greeting' 'thanks' 'goodbye']\n"
     ]
    }
   ],
   "source": [
    "# Evaluate the model on the test set\n",
    "y_pred = tf_chatbot.predict(X_test) # predicts the class probabilities for each sample\n",
    "predicted_classes = np.argmax(y_pred, axis=1)  # Get the index of the highest probability for each sample\n",
    "tag_predict = le.inverse_transform(predicted_classes)  # Convert class indices back to original labels\n",
    "print(f\"Predicted tags: {tag_predict}\")"
   ]
  },
  {
   "cell_type": "code",
   "execution_count": 176,
   "metadata": {},
   "outputs": [
    {
     "name": "stdout",
     "output_type": "stream",
     "text": [
      "Accuracy = 85.33%\n",
      "              precision    recall  f1-score   support\n",
      "\n",
      "         age       0.83      1.00      0.91         5\n",
      "     goodbye       0.89      0.57      0.70        14\n",
      "    greeting       0.76      1.00      0.87        26\n",
      "        help       0.86      1.00      0.92         6\n",
      "        joke       1.00      0.83      0.91         6\n",
      "        name       1.00      0.83      0.91         6\n",
      "     purpose       1.00      0.83      0.91         6\n",
      "      thanks       1.00      0.67      0.80         6\n",
      "\n",
      "    accuracy                           0.85        75\n",
      "   macro avg       0.92      0.84      0.87        75\n",
      "weighted avg       0.88      0.85      0.85        75\n",
      "\n"
     ]
    }
   ],
   "source": [
    "# accuracy on test set\n",
    "accuracy = accuracy_score(y_test, predicted_classes)\n",
    "print(f\"Accuracy = {accuracy * 100:.2f}%\")\n",
    "print(classification_report(y_test, predicted_classes, target_names=le.classes_))\n",
    "\n"
   ]
  },
  {
   "cell_type": "code",
   "execution_count": 177,
   "metadata": {},
   "outputs": [
    {
     "name": "stdout",
     "output_type": "stream",
     "text": [
      "[[ 5  0  0  0  0  0  0  0]\n",
      " [ 0  8  6  0  0  0  0  0]\n",
      " [ 0  0 26  0  0  0  0  0]\n",
      " [ 0  0  0  6  0  0  0  0]\n",
      " [ 0  0  1  0  5  0  0  0]\n",
      " [ 0  0  0  1  0  5  0  0]\n",
      " [ 1  0  0  0  0  0  5  0]\n",
      " [ 0  1  1  0  0  0  0  4]]\n"
     ]
    },
    {
     "data": {
      "image/png": "[encoded data removed]",
      "text/plain": [
       "<Figure size 1000x700 with 2 Axes>"
      ]
     },
     "metadata": {},
     "output_type": "display_data"
    }
   ],
   "source": [
    "# Plot confusion matrix\n",
    "cm = confusion_matrix(y_test, predicted_classes)\n",
    "plt.figure(figsize=(10, 7))\n",
    "plt.title('Confusion Matrix')\n",
    "plt.xticks(np.arange(len(le.classes_)), le.classes_, rotation=45)\n",
    "plt.yticks(np.arange(len(le.classes_)), le.classes_)\n",
    "plt.ylabel('True label')\n",
    "plt.xlabel('Predicted label')\n",
    "plt.imshow(cm, interpolation='nearest', cmap=plt.cm.Blues)\n",
    "plt.colorbar()\n",
    "\n",
    "\n",
    "print(cm)\n"
   ]
  },
  {
   "cell_type": "markdown",
   "metadata": {},
   "source": [
    "Testing chatbot model - Accuracy:"
   ]
  },
  {
   "cell_type": "code",
   "execution_count": 178,
   "metadata": {},
   "outputs": [
    {
     "name": "stdout",
     "output_type": "stream",
     "text": [
      "Test Accuracy: 85.33%\n",
      "\u001b[1m3/3\u001b[0m \u001b[32m━━━━━━━━━━━━━━━━━━━━\u001b[0m\u001b[37m\u001b[0m \u001b[1m0s\u001b[0m 13ms/step\n",
      "    Predicted  Actual\n",
      "0           5       5\n",
      "1           0       0\n",
      "2           5       5\n",
      "3           2       1\n",
      "4           2       2\n",
      "..        ...     ...\n",
      "70          2       1\n",
      "71          2       2\n",
      "72          2       2\n",
      "73          7       7\n",
      "74          1       1\n",
      "\n",
      "[75 rows x 2 columns]\n"
     ]
    }
   ],
   "source": [
    "# Evaluate the model on the test data\n",
    "loss, accuracy_test = tf_chatbot.evaluate(X_test, y_test, verbose=0)\n",
    "print(f\"Test Accuracy: {accuracy_test * 100:.2f}%\")\n",
    "\n",
    "# Predict the classes for the test data\n",
    "y_pred_classes = np.argmax(tf_chatbot.predict(X_test), axis=1)\n",
    "# Display y_pred_classes and y_test side by side as columns\n",
    "comparison = pd.DataFrame({'Predicted': y_pred_classes, 'Actual': y_test})\n",
    "print(comparison)\n"
   ]
  },
  {
   "cell_type": "markdown",
   "metadata": {},
   "source": [
    "Saving Model"
   ]
  },
  {
   "cell_type": "code",
   "execution_count": 179,
   "metadata": {},
   "outputs": [
    {
     "data": {
      "text/plain": [
       "['tf_model/label_encoder.pkl']"
      ]
     },
     "execution_count": 179,
     "metadata": {},
     "output_type": "execute_result"
    }
   ],
   "source": [
    "import joblib\n",
    "\n",
    "# save model\n",
    "# Save the model\n",
    "tf.keras.models.save_model(tf_chatbot, 'tf_model/chatbot_tfmodelSeq.keras')\n",
    "\n",
    "# Save the CountVectorizer\n",
    "joblib.dump(count_vec, 'tf_model/count_vectorizer.pkl')\n",
    "\n",
    "# Save the LabelEncoder\n",
    "joblib.dump(le, 'tf_model/label_encoder.pkl')\n"
   ]
  }
 ],
 "metadata": {
  "kernelspec": {
   "display_name": "base",
   "language": "python",
   "name": "python3"
  },
  "language_info": {
   "codemirror_mode": {
    "name": "ipython",
    "version": 3
   },
   "file_extension": ".py",
   "mimetype": "text/x-python",
   "name": "python",
   "nbconvert_exporter": "python",
   "pygments_lexer": "ipython3",
   "version": "3.12.7"
  }
 },
 "nbformat": 4,
 "nbformat_minor": 2
}
